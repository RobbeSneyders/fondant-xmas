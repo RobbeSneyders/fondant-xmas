{
 "cells": [
  {
   "cell_type": "code",
   "execution_count": 1,
   "metadata": {},
   "outputs": [],
   "source": [
    "import os\n",
    "\n",
    "import pyarrow as pa\n",
    "\n",
    "import pandas as pd\n",
    "from src.fondant.pipeline import Pipeline\n",
    "\n",
    "from src.fondant.pipeline import Pipeline\n",
    "from src.fondant.pipeline.runner import DockerRunner\n",
    "from src.fondant.pipeline.compiler import DockerCompiler\n",
    "\n",
    "from src.fondant.component import PandasTransformComponent\n",
    "os.environ[\"DOCKER_DEFAULT_PLATFORM\"]=\"linux/amd64\""
   ]
  },
  {
   "cell_type": "code",
   "execution_count": 2,
   "metadata": {},
   "outputs": [],
   "source": [
    "\n",
    "# generate some data\n",
    "data = pd.DataFrame(\n",
    "        {\n",
    "            \"x\": [1, 2, 3],\n",
    "            \"y\": [4, 5, 6],\n",
    "        },\n",
    "        index=pd.Index([\"a\", \"b\", \"c\"], name=\"id\"),\n",
    "    )\n",
    "\n",
    "data.to_parquet(\"./foobar/sample.parquet\")"
   ]
  },
  {
   "cell_type": "code",
   "execution_count": 3,
   "metadata": {},
   "outputs": [],
   "source": [
    "\n",
    "\n",
    "\n",
    "pipeline = Pipeline(name=\"foo\", description=\"bar\", base_path=\"/Users/georgeslorre/ML6/internal/fondant-xmas/foobar\")\n",
    "\n",
    "\n",
    "dataset = pipeline.read(\n",
    "    name_or_path=\"components/load_from_parquet\",\n",
    "    arguments={\n",
    "        \"dataset_uri\": \"../../foobar/sample.parquet\",\n",
    "    },\n",
    "    produces={\"x\": pa.int32(), \"y\": pa.int32()},\n",
    ")\n",
    "\n",
    "# DockerCompiler().compile(pipeline=pipeline)\n",
    "# DockerRunner().run(input=\"./docker-compose.yml\")\n"
   ]
  },
  {
   "cell_type": "code",
   "execution_count": 5,
   "metadata": {},
   "outputs": [
    {
     "name": "stdout",
     "output_type": "stream",
     "text": [
      "PandasTransformComponent\n"
     ]
    }
   ],
   "source": [
    "class Addition(PandasTransformComponent):\n",
    "    def __init__(self, *_):\n",
    "        pass\n",
    "\n",
    "    def transform(self, dataframe: pd.DataFrame) -> pd.DataFrame:\n",
    "        dataframe['z'] = dataframe['x'] + dataframe['y']\n",
    "        return dataframe\n"
   ]
  },
  {
   "cell_type": "code",
   "execution_count": 6,
   "metadata": {},
   "outputs": [
    {
     "name": "stderr",
     "output_type": "stream",
     "text": [
      "usage: ipykernel_launcher.py [-h] [--input_manifest_path INPUT_MANIFEST_PATH]\n",
      "                             --component_spec COMPONENT_SPEC\n",
      "                             [--input_partition_rows INPUT_PARTITION_ROWS]\n",
      "                             [--cache CACHE] [--cluster_type CLUSTER_TYPE]\n",
      "                             [--client_kwargs CLIENT_KWARGS] --metadata\n",
      "                             METADATA --output_manifest_path\n",
      "                             OUTPUT_MANIFEST_PATH [--consumes CONSUMES]\n",
      "                             [--produces PRODUCES]\n",
      "ipykernel_launcher.py: error: the following arguments are required: --component_spec, --metadata, --output_manifest_path\n"
     ]
    },
    {
     "ename": "SystemExit",
     "evalue": "2",
     "output_type": "error",
     "traceback": [
      "An exception has occurred, use %tb to see the full traceback.\n",
      "\u001b[0;31mSystemExit\u001b[0m\u001b[0;31m:\u001b[0m 2\n"
     ]
    },
    {
     "name": "stderr",
     "output_type": "stream",
     "text": [
      "/Users/georgeslorre/ML6/internal/fondant-xmas/.venv/lib/python3.10/site-packages/IPython/core/interactiveshell.py:3516: UserWarning: To exit: use 'exit', 'quit', or Ctrl-D.\n",
      "  warn(\"To exit: use 'exit', 'quit', or Ctrl-D.\", stacklevel=1)\n"
     ]
    }
   ],
   "source": [
    "_ = dataset.execute(component=Addition, produces={\"z\": pa.int32()}, consumes={\"x\": pa.int32(), \"y\": pa.int32()})"
   ]
  },
  {
   "cell_type": "code",
   "execution_count": null,
   "metadata": {},
   "outputs": [],
   "source": []
  }
 ],
 "metadata": {
  "kernelspec": {
   "display_name": ".venv",
   "language": "python",
   "name": "python3"
  },
  "language_info": {
   "codemirror_mode": {
    "name": "ipython",
    "version": 3
   },
   "file_extension": ".py",
   "mimetype": "text/x-python",
   "name": "python",
   "nbconvert_exporter": "python",
   "pygments_lexer": "ipython3",
   "version": "3.10.5"
  }
 },
 "nbformat": 4,
 "nbformat_minor": 2
}
